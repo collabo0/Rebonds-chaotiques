{
 "cells": [
  {
   "cell_type": "markdown",
   "id": "3b526225",
   "metadata": {},
   "source": [
    "# <font color=\"red\" size=6>Rebonds chaotiques</font>\n",
    "<font color=\"red\" size=3>Projet de semestre</font>\n",
    "\n",
    "*Méthodes numériques pour la Physique* – Christophe Berthod (Université de Genève)\n",
    "\n",
    "Assistants\n",
    " * Loïc Musy (loic.musy@unige.ch)\n",
    " * Giacomo Morpurgo (giacomo.morpurgo@unige.ch)\n",
    " * Axel Grand\n",
    " * Maxime Marchand\n",
    "\n",
    "2024-03-21"
   ]
  },
  {
   "cell_type": "markdown",
   "id": "f7a1ad9a",
   "metadata": {
    "heading_collapsed": true
   },
   "source": [
    "## Donnée"
   ]
  },
  {
   "cell_type": "markdown",
   "id": "f63af7f1",
   "metadata": {
    "hidden": true
   },
   "source": [
    "<div class=\"alert alert-box alert-info\"><b>Remarque</b> | Les différents points peuvent être réalisés dans un ordre différent de l'ordre indiqué. En particulier, le point 1 n'est pas nécessaire pour résoudre les autres. Les points 7 et 8 peuvent être traités avant 5 et 6. Le point 9 est indépendant des autres et peut être effectué en tout temps.</div>"
   ]
  },
  {
   "cell_type": "markdown",
   "id": "16bcb013",
   "metadata": {
    "hidden": true
   },
   "source": [
    "Une bille repose sur un plateau initialement au repos. À partir du temps $t=0$, le plateau est animé par un moteur d'un mouvement vertical oscillant $z_p(t)=A\\sin(\\omega t)$. Nous voulons étudier le mouvement $z(t)$ de la bille, en négligeant les frottements et en supposant que la masse du plateau est infinie (ce qui signifie que la bille n'a pas d'influence sur le plateau lors d'un rebond). Nous considérons en outre la bille comme un point en négligeant son rayon.\n",
    "\n",
    "![svg image](data:image/svg+xml,%3C%3Fxml%20version%3D%221.0%22%20encoding%3D%22UTF-8%22%3F%3E%0A%3Csvg%20xmlns%3D%22http%3A%2F%2Fwww.w3.org%2F2000%2Fsvg%22%20xmlns%3Axlink%3D%22http%3A%2F%2Fwww.w3.org%2F1999%2Fxlink%22%20width%3D%22400%22%20viewBox%3D%220%200%20262.89%20119.06%22%3E%0A%3Cdefs%3E%0A%3Cg%3E%0A%3Cg%20id%3D%22glyph-0-0%22%3E%0A%3Cpath%20d%3D%22M%204.34375%200.0625%20C%204.34375%20-0.203125%204.171875%20-0.375%203.921875%20-0.375%20C%203.6875%20-0.375%203.515625%20-0.21875%203.515625%200.015625%20C%203.515625%200.109375%203.546875%200.21875%203.625%200.359375%20C%203.65625%200.4375%203.6875%200.484375%203.6875%200.53125%20C%203.6875%200.640625%203.546875%200.71875%203.359375%200.71875%20C%203.0625%200.71875%202.921875%200.609375%202.515625%200.125%20C%202%20-0.5625%201.765625%20-0.71875%201.078125%20-0.875%20L%204.546875%20-4.984375%20L%204.546875%20-5.109375%20L%201.140625%20-5.109375%20L%200.78125%20-3.734375%20L%200.96875%20-3.6875%20C%201.21875%20-4.296875%201.375%20-4.40625%201.9375%20-4.40625%20L%203.6875%20-4.40625%20L%20-0.03125%200.046875%20L%200.078125%200.15625%20C%200.28125%200%200.4375%20-0.0625%200.625%20-0.0625%20C%200.9375%20-0.0625%201.3125%200.09375%201.875%200.4375%20C%202.46875%200.8125%202.875%200.96875%203.21875%200.96875%20C%203.8125%200.96875%204.34375%200.53125%204.34375%200.0625%20Z%20M%204.34375%200.0625%20%22%2F%3E%0A%3C%2Fg%3E%0A%3Cg%20id%3D%22glyph-0-1%22%3E%0A%3Cpath%20d%3D%22M%203.53125%20-5.109375%20L%202.578125%20-5.109375%20L%202.921875%20-6.34375%20C%202.921875%20-6.375%202.921875%20-6.390625%202.921875%20-6.40625%20C%202.921875%20-6.484375%202.890625%20-6.53125%202.828125%20-6.53125%20C%202.765625%20-6.53125%202.71875%20-6.515625%202.65625%20-6.421875%20C%201.515625%20-4.9375%200.6875%20-5.1875%200.6875%20-4.8125%20C%200.6875%20-4.796875%200.6875%20-4.765625%200.6875%20-4.734375%20L%201.578125%20-4.734375%20L%200.71875%20-1.453125%20C%200.6875%20-1.296875%200.4375%20-0.546875%200.4375%20-0.328125%20C%200.4375%20-0.0625%200.6875%200.125%201.015625%200.125%20C%201.5625%200.125%201.953125%20-0.203125%202.71875%20-1.3125%20L%202.5625%20-1.40625%20C%201.96875%20-0.640625%201.78125%20-0.453125%201.59375%20-0.453125%20C%201.484375%20-0.453125%201.40625%20-0.546875%201.40625%20-0.6875%20C%201.40625%20-0.703125%201.40625%20-0.71875%201.421875%20-0.75%20L%202.46875%20-4.734375%20L%203.484375%20-4.734375%20Z%20M%203.53125%20-5.109375%20%22%2F%3E%0A%3C%2Fg%3E%0A%3Cg%20id%3D%22glyph-0-2%22%3E%0A%3Cpath%20d%3D%22M%206.859375%20-2.953125%20L%206.859375%20-3.1875%20L%200.734375%20-6.078125%20L%200.734375%20-5.40625%20L%205.71875%20-3.078125%20L%200.734375%20-0.734375%20L%200.734375%20-0.078125%20Z%20M%206.859375%20-2.953125%20%22%2F%3E%0A%3C%2Fg%3E%0A%3Cg%20id%3D%22glyph-1-0%22%3E%0A%3Cpath%20d%3D%22M%205.6875%20-3.9375%20C%205.6875%20-6.390625%204.609375%20-8.078125%203.03125%20-8.078125%20C%202.375%20-8.078125%201.875%20-7.875%201.4375%20-7.453125%20C%200.734375%20-6.796875%200.28125%20-5.421875%200.28125%20-4.015625%20C%200.28125%20-2.71875%200.6875%20-1.3125%201.25%20-0.640625%20C%201.6875%20-0.125%202.296875%200.171875%202.984375%200.171875%20C%203.59375%200.171875%204.109375%20-0.03125%204.546875%20-0.453125%20C%205.234375%20-1.109375%205.6875%20-2.5%205.6875%20-3.9375%20Z%20M%204.546875%20-3.921875%20C%204.546875%20-1.421875%204.015625%20-0.140625%202.984375%20-0.140625%20C%201.953125%20-0.140625%201.4375%20-1.421875%201.4375%20-3.90625%20C%201.4375%20-6.4375%201.96875%20-7.765625%203%20-7.765625%20C%204%20-7.765625%204.546875%20-6.421875%204.546875%20-3.921875%20Z%20M%204.546875%20-3.921875%20%22%2F%3E%0A%3C%2Fg%3E%0A%3Cg%20id%3D%22glyph-2-0%22%3E%0A%3Cpath%20d%3D%22M%206.59375%20-3.9375%20L%206.59375%20-4.609375%20L%200.484375%20-4.609375%20L%200.484375%20-3.9375%20Z%20M%206.59375%20-1.515625%20L%206.59375%20-2.1875%20L%200.484375%20-2.1875%20L%200.484375%20-1.515625%20Z%20M%206.59375%20-1.515625%20%22%2F%3E%0A%3C%2Fg%3E%0A%3C%2Fg%3E%0A%3CclipPath%20id%3D%22clip-0%22%3E%0A%3Cpath%20clip-rule%3D%22nonzero%22%20d%3D%22M%2025%20105%20L%2061%20105%20L%2061%20119.058594%20L%2025%20119.058594%20Z%20M%2025%20105%20%22%2F%3E%0A%3C%2FclipPath%3E%0A%3CclipPath%20id%3D%22clip-1%22%3E%0A%3Cpath%20clip-rule%3D%22nonzero%22%20d%3D%22M%20124%20105%20L%20160%20105%20L%20160%20119.058594%20L%20124%20119.058594%20Z%20M%20124%20105%20%22%2F%3E%0A%3C%2FclipPath%3E%0A%3CclipPath%20id%3D%22clip-2%22%3E%0A%3Cpath%20clip-rule%3D%22nonzero%22%20d%3D%22M%20224%20105%20L%20259%20105%20L%20259%20119.058594%20L%20224%20119.058594%20Z%20M%20224%20105%20%22%2F%3E%0A%3C%2FclipPath%3E%0A%3CclipPath%20id%3D%22clip-3%22%3E%0A%3Cpath%20clip-rule%3D%22nonzero%22%20d%3D%22M%20219%2058%20L%20262.890625%2058%20L%20262.890625%2061%20L%20219%2061%20Z%20M%20219%2058%20%22%2F%3E%0A%3C%2FclipPath%3E%0A%3C%2Fdefs%3E%0A%3Cpath%20fill%3D%22none%22%20stroke-width%3D%2249.9833%22%20stroke-linecap%3D%22butt%22%20stroke-linejoin%3D%22round%22%20stroke%3D%22rgb%2850%25%2C%2050%25%2C%2050%25%29%22%20stroke-opacity%3D%221%22%20stroke-miterlimit%3D%2210%22%20d%3D%22M%20430.898438%20707.045312%20L%20430.898438%2066.5375%20%22%20transform%3D%22matrix%280.1%2C%200%2C%200%2C%20-0.1%2C%200%2C%20119.06%29%22%2F%3E%0A%3Cpath%20fill-rule%3D%22nonzero%22%20fill%3D%22rgb%2850%25%2C%2050%25%2C%2050%25%29%22%20fill-opacity%3D%221%22%20d%3D%22M%2026.011719%20118.808594%20L%2060.171875%20118.808594%20L%2060.171875%20106%20L%2026.011719%20106%20L%2026.011719%20118.808594%20%22%2F%3E%0A%3Cg%20clip-path%3D%22url%28%23clip-0%29%22%3E%0A%3Cpath%20fill%3D%22none%22%20stroke-width%3D%224.99833%22%20stroke-linecap%3D%22round%22%20stroke-linejoin%3D%22round%22%20stroke%3D%22rgb%280%25%2C%200%25%2C%200%25%29%22%20stroke-opacity%3D%221%22%20stroke-miterlimit%3D%2210%22%20d%3D%22M%20260.117188%202.514062%20L%20601.71875%202.514062%20L%20601.71875%20130.6%20L%20260.117188%20130.6%20Z%20M%20260.117188%202.514062%20%22%20transform%3D%22matrix%280.1%2C%200%2C%200%2C%20-0.1%2C%200%2C%20119.06%29%22%2F%3E%0A%3C%2Fg%3E%0A%3Cpath%20fill-rule%3D%22nonzero%22%20fill%3D%22rgb%28100%25%2C%200%25%2C%200%25%29%22%20fill-opacity%3D%221%22%20d%3D%22M%2047.359375%2044.085938%20C%2047.359375%2041.726562%2045.449219%2039.816406%2043.089844%2039.816406%20C%2040.734375%2039.816406%2038.820312%2041.726562%2038.820312%2044.085938%20C%2038.820312%2046.445312%2040.734375%2048.355469%2043.089844%2048.355469%20C%2045.449219%2048.355469%2047.359375%2046.445312%2047.359375%2044.085938%20%22%2F%3E%0A%3Cpath%20fill%3D%22none%22%20stroke-width%3D%2219.9933%22%20stroke-linecap%3D%22butt%22%20stroke-linejoin%3D%22round%22%20stroke%3D%22rgb%280%25%2C%200%25%2C%20100%25%29%22%20stroke-opacity%3D%221%22%20stroke-miterlimit%3D%2210%22%20d%3D%22M%20217.421875%20707.045312%20L%20644.414062%20707.045312%20%22%20transform%3D%22matrix%280.1%2C%200%2C%200%2C%20-0.1%2C%200%2C%20119.06%29%22%2F%3E%0A%3Cpath%20fill%3D%22none%22%20stroke-width%3D%224.99833%22%20stroke-linecap%3D%22round%22%20stroke-linejoin%3D%22round%22%20stroke%3D%22rgb%280%25%2C%200%25%2C%200%25%29%22%20stroke-opacity%3D%221%22%20stroke-miterlimit%3D%2210%22%20d%3D%22M%20132.03125%20845.560937%20L%20132.03125%20280.053125%20%22%20transform%3D%22matrix%280.1%2C%200%2C%200%2C%20-0.1%2C%200%2C%20119.06%29%22%2F%3E%0A%3Cpath%20fill-rule%3D%22nonzero%22%20fill%3D%22rgb%280%25%2C%200%25%2C%200%25%29%22%20fill-opacity%3D%221%22%20stroke-width%3D%224.99833%22%20stroke-linecap%3D%22round%22%20stroke-linejoin%3D%22round%22%20stroke%3D%22rgb%280%25%2C%200%25%2C%200%25%29%22%20stroke-opacity%3D%221%22%20stroke-miterlimit%3D%2210%22%20d%3D%22M%20132.03125%20920.521875%20L%20111.914062%20845.560937%20L%20152.109375%20845.560937%20Z%20M%20132.03125%20920.521875%20%22%20transform%3D%22matrix%280.1%2C%200%2C%200%2C%20-0.1%2C%200%2C%20119.06%29%22%2F%3E%0A%3Cpath%20fill%3D%22none%22%20stroke-width%3D%224.99833%22%20stroke-linecap%3D%22round%22%20stroke-linejoin%3D%22round%22%20stroke%3D%22rgb%280%25%2C%200%25%2C%200%25%29%22%20stroke-opacity%3D%221%22%20stroke-miterlimit%3D%2210%22%20d%3D%22M%20110.664062%20707.045312%20L%20153.359375%20707.045312%20%22%20transform%3D%22matrix%280.1%2C%200%2C%200%2C%20-0.1%2C%200%2C%20119.06%29%22%2F%3E%0A%3Cpath%20fill%3D%22none%22%20stroke-width%3D%2249.9833%22%20stroke-linecap%3D%22butt%22%20stroke-linejoin%3D%22round%22%20stroke%3D%22rgb%2850%25%2C%2050%25%2C%2050%25%29%22%20stroke-opacity%3D%221%22%20stroke-miterlimit%3D%2210%22%20d%3D%22M%201422.695312%20813.803125%20L%201422.695312%2066.5375%20%22%20transform%3D%22matrix%280.1%2C%200%2C%200%2C%20-0.1%2C%200%2C%20119.06%29%22%2F%3E%0A%3Cpath%20fill-rule%3D%22nonzero%22%20fill%3D%22rgb%2850%25%2C%2050%25%2C%2050%25%29%22%20fill-opacity%3D%221%22%20d%3D%22M%20125.191406%20118.808594%20L%20159.351562%20118.808594%20L%20159.351562%20106%20L%20125.191406%20106%20L%20125.191406%20118.808594%20%22%2F%3E%0A%3Cg%20clip-path%3D%22url%28%23clip-1%29%22%3E%0A%3Cpath%20fill%3D%22none%22%20stroke-width%3D%224.99833%22%20stroke-linecap%3D%22round%22%20stroke-linejoin%3D%22round%22%20stroke%3D%22rgb%280%25%2C%200%25%2C%200%25%29%22%20stroke-opacity%3D%221%22%20stroke-miterlimit%3D%2210%22%20d%3D%22M%201251.914062%202.514062%20L%201593.515625%202.514062%20L%201593.515625%20130.6%20L%201251.914062%20130.6%20Z%20M%201251.914062%202.514062%20%22%20transform%3D%22matrix%280.1%2C%200%2C%200%2C%20-0.1%2C%200%2C%20119.06%29%22%2F%3E%0A%3C%2Fg%3E%0A%3Cpath%20fill-rule%3D%22nonzero%22%20fill%3D%22rgb%28100%25%2C%200%25%2C%200%25%29%22%20fill-opacity%3D%221%22%20d%3D%22M%20146.539062%2033.410156%20C%20146.539062%2031.054688%20144.628906%2029.140625%20142.269531%2029.140625%20C%20139.914062%2029.140625%20138%2031.054688%20138%2033.410156%20C%20138%2035.769531%20139.914062%2037.679688%20142.269531%2037.679688%20C%20144.628906%2037.679688%20146.539062%2035.769531%20146.539062%2033.410156%20%22%2F%3E%0A%3Cpath%20fill%3D%22none%22%20stroke-width%3D%2219.9933%22%20stroke-linecap%3D%22butt%22%20stroke-linejoin%3D%22round%22%20stroke%3D%22rgb%280%25%2C%200%25%2C%20100%25%29%22%20stroke-opacity%3D%221%22%20stroke-miterlimit%3D%2210%22%20d%3D%22M%201209.21875%20813.803125%20L%201636.210938%20813.803125%20%22%20transform%3D%22matrix%280.1%2C%200%2C%200%2C%20-0.1%2C%200%2C%20119.06%29%22%2F%3E%0A%3Cpath%20fill%3D%22none%22%20stroke-width%3D%224.99833%22%20stroke-linecap%3D%22round%22%20stroke-linejoin%3D%22round%22%20stroke%3D%22rgb%280%25%2C%200%25%2C%20100%25%29%22%20stroke-opacity%3D%221%22%20stroke-miterlimit%3D%2210%22%20d%3D%22M%201123.828125%20845.560937%20L%201123.828125%20568.529687%20%22%20transform%3D%22matrix%280.1%2C%200%2C%200%2C%20-0.1%2C%200%2C%20119.06%29%22%2F%3E%0A%3Cpath%20fill-rule%3D%22nonzero%22%20fill%3D%22rgb%280%25%2C%200%25%2C%20100%25%29%22%20fill-opacity%3D%221%22%20stroke-width%3D%224.99833%22%20stroke-linecap%3D%22round%22%20stroke-linejoin%3D%22round%22%20stroke%3D%22rgb%280%25%2C%200%25%2C%20100%25%29%22%20stroke-opacity%3D%221%22%20stroke-miterlimit%3D%2210%22%20d%3D%22M%201123.828125%20920.521875%20L%201103.710938%20845.560937%20L%201143.90625%20845.560937%20Z%20M%201123.828125%20920.521875%20%22%20transform%3D%22matrix%280.1%2C%200%2C%200%2C%20-0.1%2C%200%2C%20119.06%29%22%2F%3E%0A%3Cpath%20fill-rule%3D%22nonzero%22%20fill%3D%22rgb%280%25%2C%200%25%2C%20100%25%29%22%20fill-opacity%3D%221%22%20stroke-width%3D%224.99833%22%20stroke-linecap%3D%22round%22%20stroke-linejoin%3D%22round%22%20stroke%3D%22rgb%280%25%2C%200%25%2C%20100%25%29%22%20stroke-opacity%3D%221%22%20stroke-miterlimit%3D%2210%22%20d%3D%22M%201123.828125%20493.529687%20L%201143.90625%20568.529687%20L%201103.710938%20568.529687%20Z%20M%201123.828125%20493.529687%20%22%20transform%3D%22matrix%280.1%2C%200%2C%200%2C%20-0.1%2C%200%2C%20119.06%29%22%2F%3E%0A%3Cpath%20fill%3D%22none%22%20stroke-width%3D%2249.9833%22%20stroke-linecap%3D%22butt%22%20stroke-linejoin%3D%22round%22%20stroke%3D%22rgb%2850%25%2C%2050%25%2C%2050%25%29%22%20stroke-opacity%3D%221%22%20stroke-miterlimit%3D%2210%22%20d%3D%22M%202414.492188%20600.2875%20L%202414.492188%2066.5375%20%22%20transform%3D%22matrix%280.1%2C%200%2C%200%2C%20-0.1%2C%200%2C%20119.06%29%22%2F%3E%0A%3Cpath%20fill-rule%3D%22nonzero%22%20fill%3D%22rgb%2850%25%2C%2050%25%2C%2050%25%29%22%20fill-opacity%3D%221%22%20d%3D%22M%20224.371094%20118.808594%20L%20258.53125%20118.808594%20L%20258.53125%20106%20L%20224.371094%20106%20L%20224.371094%20118.808594%20%22%2F%3E%0A%3Cg%20clip-path%3D%22url%28%23clip-2%29%22%3E%0A%3Cpath%20fill%3D%22none%22%20stroke-width%3D%224.99833%22%20stroke-linecap%3D%22round%22%20stroke-linejoin%3D%22round%22%20stroke%3D%22rgb%280%25%2C%200%25%2C%200%25%29%22%20stroke-opacity%3D%221%22%20stroke-miterlimit%3D%2210%22%20d%3D%22M%202243.710938%202.514062%20L%202585.3125%202.514062%20L%202585.3125%20130.6%20L%202243.710938%20130.6%20Z%20M%202243.710938%202.514062%20%22%20transform%3D%22matrix%280.1%2C%200%2C%200%2C%20-0.1%2C%200%2C%20119.06%29%22%2F%3E%0A%3C%2Fg%3E%0A%3Cpath%20fill-rule%3D%22nonzero%22%20fill%3D%22rgb%28100%25%2C%200%25%2C%200%25%29%22%20fill-opacity%3D%221%22%20d%3D%22M%20245.71875%2027.007812%20C%20245.71875%2024.648438%20243.808594%2022.738281%20241.449219%2022.738281%20C%20239.09375%2022.738281%20237.179688%2024.648438%20237.179688%2027.007812%20C%20237.179688%2029.363281%20239.09375%2031.277344%20241.449219%2031.277344%20C%20243.808594%2031.277344%20245.71875%2029.363281%20245.71875%2027.007812%20%22%2F%3E%0A%3Cg%20clip-path%3D%22url%28%23clip-3%29%22%3E%0A%3Cpath%20fill%3D%22none%22%20stroke-width%3D%2219.9933%22%20stroke-linecap%3D%22butt%22%20stroke-linejoin%3D%22round%22%20stroke%3D%22rgb%280%25%2C%200%25%2C%20100%25%29%22%20stroke-opacity%3D%221%22%20stroke-miterlimit%3D%2210%22%20d%3D%22M%202201.015625%20600.2875%20L%202628.007812%20600.2875%20%22%20transform%3D%22matrix%280.1%2C%200%2C%200%2C%20-0.1%2C%200%2C%20119.06%29%22%2F%3E%0A%3C%2Fg%3E%0A%3Cpath%20fill%3D%22none%22%20stroke-width%3D%224.99833%22%20stroke-linecap%3D%22round%22%20stroke-linejoin%3D%22round%22%20stroke%3D%22rgb%280%25%2C%200%25%2C%20100%25%29%22%20stroke-opacity%3D%221%22%20stroke-miterlimit%3D%2210%22%20d%3D%22M%202115.625%20845.560937%20L%202115.625%20568.529687%20%22%20transform%3D%22matrix%280.1%2C%200%2C%200%2C%20-0.1%2C%200%2C%20119.06%29%22%2F%3E%0A%3Cpath%20fill-rule%3D%22nonzero%22%20fill%3D%22rgb%280%25%2C%200%25%2C%20100%25%29%22%20fill-opacity%3D%221%22%20stroke-width%3D%224.99833%22%20stroke-linecap%3D%22round%22%20stroke-linejoin%3D%22round%22%20stroke%3D%22rgb%280%25%2C%200%25%2C%20100%25%29%22%20stroke-opacity%3D%221%22%20stroke-miterlimit%3D%2210%22%20d%3D%22M%202115.625%20920.521875%20L%202095.507812%20845.560937%20L%202135.703125%20845.560937%20Z%20M%202115.625%20920.521875%20%22%20transform%3D%22matrix%280.1%2C%200%2C%200%2C%20-0.1%2C%200%2C%20119.06%29%22%2F%3E%0A%3Cpath%20fill-rule%3D%22nonzero%22%20fill%3D%22rgb%280%25%2C%200%25%2C%20100%25%29%22%20fill-opacity%3D%221%22%20stroke-width%3D%224.99833%22%20stroke-linecap%3D%22round%22%20stroke-linejoin%3D%22round%22%20stroke%3D%22rgb%280%25%2C%200%25%2C%20100%25%29%22%20stroke-opacity%3D%221%22%20stroke-miterlimit%3D%2210%22%20d%3D%22M%202115.625%20493.529687%20L%202135.703125%20568.529687%20L%202095.507812%20568.529687%20Z%20M%202115.625%20493.529687%20%22%20transform%3D%22matrix%280.1%2C%200%2C%200%2C%20-0.1%2C%200%2C%20119.06%29%22%2F%3E%0A%3Cg%20fill%3D%22rgb%280%25%2C%200%25%2C%200%25%29%22%20fill-opacity%3D%221%22%3E%0A%3Cuse%20xlink%3Ahref%3D%22%23glyph-0-0%22%20x%3D%2210.8%22%20y%3D%2222.46%22%2F%3E%0A%3C%2Fg%3E%0A%3Cg%20fill%3D%22rgb%280%25%2C%200%25%2C%200%25%29%22%20fill-opacity%3D%221%22%3E%0A%3Cuse%20xlink%3Ahref%3D%22%23glyph-1-0%22%20x%3D%221.43984%22%20y%3D%2252.3401%22%2F%3E%0A%3C%2Fg%3E%0A%3Cg%20fill%3D%22rgb%280%25%2C%200%25%2C%200%25%29%22%20fill-opacity%3D%221%22%3E%0A%3Cuse%20xlink%3Ahref%3D%22%23glyph-0-1%22%20x%3D%2231.31994%22%20y%3D%229.6198%22%2F%3E%0A%3C%2Fg%3E%0A%3Cg%20fill%3D%22rgb%280%25%2C%200%25%2C%200%25%29%22%20fill-opacity%3D%221%22%3E%0A%3Cuse%20xlink%3Ahref%3D%22%23glyph-2-0%22%20x%3D%2238.51994%22%20y%3D%229.6198%22%2F%3E%0A%3C%2Fg%3E%0A%3Cg%20fill%3D%22rgb%280%25%2C%200%25%2C%200%25%29%22%20fill-opacity%3D%221%22%3E%0A%3Cuse%20xlink%3Ahref%3D%22%23glyph-1-0%22%20x%3D%2248.95974%22%20y%3D%229.6198%22%2F%3E%0A%3C%2Fg%3E%0A%3Cg%20fill%3D%22rgb%280%25%2C%200%25%2C%200%25%29%22%20fill-opacity%3D%221%22%3E%0A%3Cuse%20xlink%3Ahref%3D%22%23glyph-0-1%22%20x%3D%22172.67974%22%20y%3D%229.6198%22%2F%3E%0A%3C%2Fg%3E%0A%3Cg%20fill%3D%22rgb%280%25%2C%200%25%2C%200%25%29%22%20fill-opacity%3D%221%22%3E%0A%3Cuse%20xlink%3Ahref%3D%22%23glyph-0-2%22%20x%3D%22180.239922%22%20y%3D%229.6198%22%2F%3E%0A%3C%2Fg%3E%0A%3Cg%20fill%3D%22rgb%280%25%2C%200%25%2C%200%25%29%22%20fill-opacity%3D%221%22%3E%0A%3Cuse%20xlink%3Ahref%3D%22%23glyph-1-0%22%20x%3D%22191.40004%22%20y%3D%229.6198%22%2F%3E%0A%3C%2Fg%3E%0A%3C%2Fsvg%3E%0A)"
   ]
  },
  {
   "cell_type": "markdown",
   "id": "2741016b",
   "metadata": {
    "hidden": true
   },
   "source": [
    "<h3>Étapes préparatoires</h3>\n",
    "\n",
    "1. Montrer que ce problème est entièrement caractérisé par un seul paramètre adimensionnel: $\\alpha=A\\omega^2/g$. *Indication*: Choisir $A$ comme unité de longueur et $1/\\omega$ comme unité de temps. Si ce point vous pose problème, revenez-y après avoir avancé dans les points suivants.\n",
    "\n",
    "\n",
    "2. Montrer que la bille ne décolle pas au temps $t=0$, quelle que soit la valeur de $\\alpha$. *Indication*: Supposer que la bille décolle au temps $t=0$ et, grâce à un développement limité près de $t=0$, constater que dans ce cas sa trajectoire serait au-dessous du plateau.\n",
    "\n",
    "\n",
    "3. Montrer que si la bille décolle, elle le fait au temps $t_0=\\frac{1}{\\omega}\\sin^{-1}\\left(\\frac{g}{A\\omega^2}\\right)$. *Indication* Le raisonnement est similaire à celui du point 2, mais pour un temps $t_0$ fini.\n",
    "\n",
    "\n",
    "4. Montrer que si $\\alpha<1$, la bille ne décolle jamais du plateau.\n",
    "\n",
    "\n",
    "5. Montrer que l'horaire de la bille est périodique pour les valeurs de $\\alpha$ qui satisfont l'équation $\\sqrt{\\alpha^2-1}+\\sin^{-1}(1/\\alpha)=(n+1/2)\\pi$, $n\\in\\mathbb{N}^*$. *Indication*: Comparer les positions, vitesses et accélérations du plateau et de la bille au temps $t=t_0$; les mêmes conditions doivent être réunies à un temps ultérieur $t_1$ pour que l'horaire soit périodique.\n",
    "\n",
    "\n",
    "6. Écrire un programme en `python` qui montre le graphique des horaires $z_p(t)$ et $z(t)$ en fonction de $t$ sur deux périodes dans le cas des trajectoires périodiques. Écrire aussi un programme qui montre une animation des mouvements du plateau et de la bille dans ces cas. Démontrer avec quelques exemples que ces programmes fonctionnent correctement.\n",
    "\n",
    "<h3>Simulation</h3>\n",
    "\n",
    "7. Montrer qu'en cas de rebond au temps $t$, la vitesse de la bille immédiatement après le rebond est $\\dot{z}(t^+)=2A\\omega\\cos(\\omega t)-\\dot{z}(t^-)$.\n",
    "\n",
    "\n",
    "8. Écrire les programmes en `python` qui calculent et représentent l'horaire et qui animent la trajectoire pour une valeur quelconque de $\\alpha$. Démontrer avec quelques exemples que ces programmes fonctionnent correctement. *Indications*: __Ne pas discrétiser le temps__ pour calculer la dynamique entre les rebonds. Noter que le premier rebond se produit après $\\omega t=\\pi/2$.\n",
    "\n",
    "<h3>Analyse: ordre dans le chaos</h3>\n",
    "\n",
    "Nous voulons montrer qu'il exite des régularités dans la suite infinie et apparemment chaotique des rebonds. Ceux-ci peuvent, pour certaines valeurs de $\\alpha$ et après un certain temps, atteindre un régime stationnaire de rebonds périodiques.\n",
    "\n",
    "[ *Intermezzo* ] La [suite logistique](https://fr.wikipedia.org/wiki/Suite_logistique) est le modèle le plus simple présentant un comportement chaotique. Cette suite est défine par l'équation $x_{i+1}=r x_i(1-x_i)$ avec $x_0\\in]0, 1[$. Suivant la valeur de $r$, le comportement de cette suite pour $i\\to\\infty$ est soit la convergence vers une valeur unique, soit l'oscillation entre deux valeurs, entre 4 valeurs, etc, soit un comportement chaotique. Ces différents comportements sont séparés par une série de *bifurcations*.\n",
    "\n",
    "\n",
    "9. Écrire une fonction qui retourne, pour une valeur particulière de $r$, la liste des $x_i$ de l'application logistique pour $i=N,\\ldots, N+M$. La fonction utilisera par défault les valeurs $x_0=0.1$, $N=1000$ et $M=100$. Créer ensuite un graphique avec sur l'axe horizontal différentes valeurs de $r$ et sur l'axe vertical toutes les valeurs $x_i$ retournées pour chaque valeur de $r$ par la fonction définie précédemment, chaque couple $(r, x_i$) étant représenté par un petit point. Ce graphique s'appelle un \"diagramme de bifurcation\". *Indications* : Utiliser `numpy.arange(1, 4, 0.001)` pour les valeurs de $r$ et les options `marker=',', lw=0` pour les petits points.\n",
    "\n",
    "\n",
    "10. [ *Retour aux rebonds* ] Soient $z_i=z(t_i)$ les positions de la bille aux moments des rebonds. Écrire une fonction qui retourne, pour une valeur particulière de $\\alpha$, la liste des $z_i$ pour $i=N,\\ldots, N+M$. La fonction utilisera par défault les valeurs $N=100$ et $M=100$. Par analogie avec le diagramme de bifurcation logistique, créer un graphique avec les valeurs de $\\alpha$ sur l'axe horizontal et les valeurs de $z_i$ sur l'axe vertical. *Indications* : Utiliser `numpy.arange(1.1, 4, 0.01)` pour les valeurs de $\\alpha$.\n",
    "\n",
    "\n",
    "11. Zoomer sur les deux intervalles de valeurs de $\\alpha$ où le comportement apparaît non chaotique, jusqu'à mettre en évidence une structure analogue au diagramme de bifurcation logistique. Varier $N$ et $M$ et discuter."
   ]
  }
 ],
 "metadata": {
  "hide_input": false,
  "kernelspec": {
   "display_name": "Python 3 (ipykernel)",
   "language": "python",
   "name": "python3"
  },
  "language_info": {
   "codemirror_mode": {
    "name": "ipython",
    "version": 3
   },
   "file_extension": ".py",
   "mimetype": "text/x-python",
   "name": "python",
   "nbconvert_exporter": "python",
   "pygments_lexer": "ipython3",
   "version": "3.11.8"
  },
  "toc": {
   "base_numbering": 1,
   "nav_menu": {},
   "number_sections": false,
   "sideBar": true,
   "skip_h1_title": false,
   "title_cell": "Table of Contents",
   "title_sidebar": "Contents",
   "toc_cell": false,
   "toc_position": {},
   "toc_section_display": true,
   "toc_window_display": false
  }
 },
 "nbformat": 4,
 "nbformat_minor": 5
}
